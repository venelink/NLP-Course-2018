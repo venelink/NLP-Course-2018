{
 "cells": [
  {
   "cell_type": "markdown",
   "metadata": {
    "deletable": true,
    "editable": true
   },
   "source": [
    "Introduction to NLP course (2017-2018).\n",
    "\n",
    "Notebook 7: Distributional representations. GenSim Word2Vec.\n",
    "\n",
    "by Venelin Kovatchev, University of Barcelona\n"
   ]
  },
  {
   "cell_type": "code",
   "execution_count": 1,
   "metadata": {
    "collapsed": false,
    "deletable": true,
    "editable": true
   },
   "outputs": [
    {
     "name": "stderr",
     "output_type": "stream",
     "text": [
      "c:\\python27\\lib\\site-packages\\gensim\\utils.py:860: UserWarning: detected Windows; aliasing chunkize to chunkize_serial\n",
      "  warnings.warn(\"detected Windows; aliasing chunkize to chunkize_serial\")\n"
     ]
    }
   ],
   "source": [
    "# Import section\n",
    "import nltk\n",
    "from nltk.corpus import gutenberg\n",
    "\n",
    "# Import gensim\n",
    "import gensim \n",
    "\n",
    "# Import numpy and scipy\n",
    "import numpy as np\n",
    "from scipy import spatial"
   ]
  },
  {
   "cell_type": "markdown",
   "metadata": {
    "deletable": true,
    "editable": true
   },
   "source": [
    "The example in class will be using the gutenberg corpus. We will build the distributional space from the corpus and see basic usage."
   ]
  },
  {
   "cell_type": "code",
   "execution_count": 2,
   "metadata": {
    "collapsed": false,
    "deletable": true,
    "editable": true
   },
   "outputs": [
    {
     "data": {
      "text/plain": [
       "18424131"
      ]
     },
     "execution_count": 2,
     "metadata": {},
     "output_type": "execute_result"
    }
   ],
   "source": [
    "## Load the corpus\n",
    "corpus = gutenberg.sents()\n",
    "\n",
    "# Setup word2vec model\n",
    "# NB. word2vec model requires tokenized (and possibly sentence/document \n",
    "# segmented) corpus - list of tokens or list of lists of tokens\n",
    "# If you use a raw corpus, \n",
    "# you need to pre-process it before passing it to w2v.\n",
    "model = gensim.models.Word2Vec (corpus, size=150, window=3, min_count=2, workers=10)\n",
    "\n",
    "model.train(corpus,total_examples=len(corpus),epochs=10)"
   ]
  },
  {
   "cell_type": "markdown",
   "metadata": {
    "deletable": true,
    "editable": true
   },
   "source": [
    "Basic operations with word2vec"
   ]
  },
  {
   "cell_type": "code",
   "execution_count": 3,
   "metadata": {
    "collapsed": false,
    "deletable": true,
    "editable": true
   },
   "outputs": [
    {
     "name": "stdout",
     "output_type": "stream",
     "text": [
      "The five words most similar to car are: [(u'lane', 0.7701449990272522), (u'bushes', 0.7549386024475098), (u'coach', 0.7348572015762329), (u'ship', 0.7150422930717468), (u'boat', 0.711279034614563)]\n",
      "\n",
      "The similarity between ``man'' and ``woman'' is: 0.675992950811\n",
      "\n",
      "The similarity between ``queen'' and ``king - man + woman'' is 0.439961791039\n"
     ]
    }
   ],
   "source": [
    "# Get the 5 words most similar to \"Car\"\n",
    "print (\"The five words most similar to car are: {}\".format(model.wv.most_similar (positive=\"car\", topn=5)))\n",
    "\n",
    "# Calculate the similarity between \"man\" and \"woman\"\n",
    "print(\"\\nThe similarity between ``man'' and ``woman'' is: {}\".format (model.wv.similarity(w1=\"man\",w2=\"woman\")))\n",
    "\n",
    "# Substract \"man\" from \"king\", add \"woman\" and compare with \"queen\"\n",
    "custom_queen = np.add(np.subtract(model[\"king\"],model[\"man\"]),model[\"woman\"])\n",
    "print(\"\\nThe similarity between ``queen'' and ``king - man + woman'' is {}\".format(1 - spatial.distance.cosine(custom_queen,model[\"queen\"])))"
   ]
  }
 ],
 "metadata": {
  "kernelspec": {
   "display_name": "Python 2",
   "language": "python",
   "name": "python2"
  },
  "language_info": {
   "codemirror_mode": {
    "name": "ipython",
    "version": 2
   },
   "file_extension": ".py",
   "mimetype": "text/x-python",
   "name": "python",
   "nbconvert_exporter": "python",
   "pygments_lexer": "ipython2",
   "version": "2.7.12"
  }
 },
 "nbformat": 4,
 "nbformat_minor": 2
}
