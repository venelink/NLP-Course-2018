{
 "cells": [
  {
   "cell_type": "markdown",
   "metadata": {},
   "source": [
    "Introduction to NLP course (2017-2018).\n",
    "\n",
    "Notebook 3: Basic corpus statistics.\n",
    "\n",
    "by Venelin Kovatchev, University of Barcelona"
   ]
  },
  {
   "cell_type": "code",
   "execution_count": 1,
   "metadata": {
    "collapsed": true
   },
   "outputs": [],
   "source": [
    "# Import section\n",
    "\n",
    "# Import nltk\n",
    "import nltk\n",
    "from nltk import FreqDist\n",
    "from nltk import bigrams, trigrams\n",
    "from nltk.collocations import *\n",
    "\n",
    "# Import regular expressions\n",
    "import re\n",
    "\n",
    "# Import corpora\n",
    "from nltk.corpus import gutenberg"
   ]
  },
  {
   "cell_type": "markdown",
   "metadata": {},
   "source": [
    "1) Basic corpus statistics:\n",
    "\n",
    "- number of tokens in the corpus\n",
    "- number of types (unique tokens) in the corpus\n",
    "- average corpus length\n",
    "\n",
    "For a reference, see chapter 3 of NLTK book."
   ]
  },
  {
   "cell_type": "markdown",
   "metadata": {},
   "source": [
    "2) Basic frequency statistics:\n",
    "\n",
    "- what are the most frequent tokens in the corpus\n",
    "- what is the frequency of a specific token\n"
   ]
  },
  {
   "cell_type": "code",
   "execution_count": 2,
   "metadata": {
    "collapsed": false
   },
   "outputs": [
    {
     "name": "stdout",
     "output_type": "stream",
     "text": [
      "\n",
      "The 10 most frequent words in the corpus are: \n",
      " [(u',', 186091), (u'the', 125748), (u'and', 78846), (u'.', 73746), (u'of', 70078), (u':', 47406), (u'to', 46443), (u'a', 32504), (u'in', 31959), (u'I', 30221)]\n",
      "\n",
      "The frequency of 'man' is: 5372\n",
      "\n",
      "The frequency of 'woman' is: 932\n"
     ]
    }
   ],
   "source": [
    "# Obtain the corpus\n",
    "corpus = gutenberg.words()\n",
    "\n",
    "# Generate the frequency distribution of the corpus\n",
    "fdist = FreqDist(corpus)\n",
    "\n",
    "# Print the 10 most frequent words in the corpus:\n",
    "print(\"\\nThe 10 most frequent words in the corpus are: \\n {}\".format(fdist.most_common(10)))\n",
    "\n",
    "# Print the frequency of man and woman\n",
    "print(\"\\nThe frequency of 'man' is: {}\".format(fdist['man']))\n",
    "print(\"\\nThe frequency of 'woman' is: {}\".format(fdist['woman']))"
   ]
  },
  {
   "cell_type": "markdown",
   "metadata": {},
   "source": [
    "3) Bigrams and Trigrams\n",
    "\n",
    "- (linear) sequences of tokens\n",
    "- not a linguistic unit per se\n",
    "- implemented natively in nltk"
   ]
  },
  {
   "cell_type": "code",
   "execution_count": 3,
   "metadata": {
    "collapsed": false
   },
   "outputs": [
    {
     "name": "stdout",
     "output_type": "stream",
     "text": [
      "\n",
      "The first 5 bigrams are: [(u'[', u'Emma'), (u'Emma', u'by'), (u'by', u'Jane'), (u'Jane', u'Austen'), (u'Austen', u'1816')]\n",
      "\n",
      "The first 5 trigrams are: [(u'[', u'Emma', u'by'), (u'Emma', u'by', u'Jane'), (u'by', u'Jane', u'Austen'), (u'Jane', u'Austen', u'1816'), (u'Austen', u'1816', u']')]\n"
     ]
    }
   ],
   "source": [
    "# Obtain the list of all bigrams in the corpus\n",
    "bigr_list = list(bigrams(corpus))\n",
    "\n",
    "# Obtain the list of all trigrams in the corpus\n",
    "trigr_list = list(trigrams(corpus))\n",
    "\n",
    "# Print the first 5 bigrams and trigrams\n",
    "print(\"\\nThe first 5 bigrams are: {}\".format(bigr_list[:5]))\n",
    "print(\"\\nThe first 5 trigrams are: {}\".format(trigr_list[:5]))"
   ]
  },
  {
   "cell_type": "markdown",
   "metadata": {},
   "source": [
    "4) Co-occurrence: Elements which appear together within a predefined context, with a certain frequency or a degree of statistical association\n",
    "\n",
    "- depends on the definition of context\n",
    "- can use surface (linear) context or linguistic (sentence, dependency) context"
   ]
  },
  {
   "cell_type": "code",
   "execution_count": 4,
   "metadata": {
    "collapsed": false
   },
   "outputs": [
    {
     "name": "stdout",
     "output_type": "stream",
     "text": [
      "\n",
      "Co-occurrence of 'student' in a window of 5\n",
      "(('the', 'student'), 1)\n",
      "(('student', 'carrying'), 1)\n",
      "(('student', 'who'), 1)\n",
      "(('student', 'is'), 1)\n",
      "(('student', 'laptop'), 1)\n",
      "(('student', 'a'), 1)\n",
      "\n",
      "Co-occurrence of 'student' in a window of 7\n",
      "(('the', 'student'), 1)\n",
      "(('student', 'carrying'), 1)\n",
      "(('student', 'who'), 1)\n",
      "(('student', 'is'), 2)\n",
      "(('student', 'a'), 1)\n",
      "(('student', 'going'), 1)\n",
      "(('student', 'laptop'), 1)\n"
     ]
    }
   ],
   "source": [
    "# Sample sentence\n",
    "my_sent = 'the student who is carrying a laptop is going to the university'.split()\n",
    "\n",
    "# Calculate the co-occurrence statistics based on surface window 5 and 7\n",
    "# NB: due to the specifics of the NLTK implementation, \n",
    "# calculating window size of 5 requires parameter window_size=6\n",
    "cooc_5 = BigramCollocationFinder.from_words(my_sent, window_size=6)\n",
    "cooc_7 = BigramCollocationFinder.from_words(my_sent, window_size=8)\n",
    "\n",
    "# Print the co-occurrence statistics for \"student\" with window 5\n",
    "print(\"\\nCo-occurrence of 'student' in a window of 5\")\n",
    "for pair,freq in cooc_5.ngram_fd.items():\n",
    "    if 'student' in pair:\n",
    "        print(pair,freq)\n",
    "        \n",
    "# Print the co-occurrence statistics for \"student\" with window 7\n",
    "print(\"\\nCo-occurrence of 'student' in a window of 7\")\n",
    "for pair,freq in cooc_7.ngram_fd.items():\n",
    "    if 'student' in pair:\n",
    "        print(pair,freq)"
   ]
  },
  {
   "cell_type": "markdown",
   "metadata": {},
   "source": [
    "5) Filtering co-occurrence\n",
    "\n",
    "- by frequency\n",
    "- using statistical association"
   ]
  },
  {
   "cell_type": "code",
   "execution_count": 5,
   "metadata": {
    "collapsed": false
   },
   "outputs": [
    {
     "name": "stdout",
     "output_type": "stream",
     "text": [
      "\n",
      "Co-occurrence of 'student' in a window of 7 and frequency minimum of 2\n",
      "(('student', 'is'), 2)\n",
      "\n",
      "Co-occurrence in a window of 5 after applying MI\n"
     ]
    },
    {
     "data": {
      "text/plain": [
       "[(('is', 'going'), 1.2630344058337943),\n",
       " (('who', 'is'), 1.2630344058337943),\n",
       " (('a', 'going'), 1.2630344058337941),\n",
       " (('a', 'laptop'), 1.2630344058337941),\n",
       " (('a', 'to'), 1.2630344058337941),\n",
       " (('carrying', 'a'), 1.2630344058337941),\n",
       " (('carrying', 'going'), 1.2630344058337941),\n",
       " (('carrying', 'laptop'), 1.2630344058337941),\n",
       " (('carrying', 'to'), 1.2630344058337941),\n",
       " (('going', 'to'), 1.2630344058337941),\n",
       " (('going', 'university'), 1.2630344058337941),\n",
       " (('laptop', 'going'), 1.2630344058337941),\n",
       " (('laptop', 'to'), 1.2630344058337941),\n",
       " (('laptop', 'university'), 1.2630344058337941),\n",
       " (('student', 'a'), 1.2630344058337941),\n",
       " (('student', 'carrying'), 1.2630344058337941),\n",
       " (('student', 'laptop'), 1.2630344058337941),\n",
       " (('student', 'who'), 1.2630344058337941),\n",
       " (('to', 'university'), 1.2630344058337941),\n",
       " (('who', 'a'), 1.2630344058337941),\n",
       " (('who', 'carrying'), 1.2630344058337941),\n",
       " (('who', 'laptop'), 1.2630344058337941),\n",
       " (('a', 'is'), 0.2630344058337941),\n",
       " (('a', 'the'), 0.2630344058337941),\n",
       " (('carrying', 'is'), 0.2630344058337941),\n",
       " (('going', 'the'), 0.2630344058337941),\n",
       " (('is', 'a'), 0.2630344058337941),\n",
       " (('is', 'carrying'), 0.2630344058337941),\n",
       " (('is', 'laptop'), 0.2630344058337941),\n",
       " (('is', 'to'), 0.2630344058337941),\n",
       " (('is', 'university'), 0.2630344058337941),\n",
       " (('laptop', 'is'), 0.2630344058337941),\n",
       " (('laptop', 'the'), 0.2630344058337941),\n",
       " (('student', 'is'), 0.2630344058337941),\n",
       " (('the', 'a'), 0.2630344058337941),\n",
       " (('the', 'carrying'), 0.2630344058337941),\n",
       " (('the', 'student'), 0.2630344058337941),\n",
       " (('the', 'university'), 0.2630344058337941),\n",
       " (('the', 'who'), 0.2630344058337941),\n",
       " (('to', 'the'), 0.2630344058337941),\n",
       " (('is', 'is'), -0.7369655941662059),\n",
       " (('is', 'the'), -0.7369655941662059),\n",
       " (('the', 'is'), -0.7369655941662059)]"
      ]
     },
     "execution_count": 5,
     "metadata": {},
     "output_type": "execute_result"
    }
   ],
   "source": [
    "# Filter only the co-occurrences with frequency of 2 or above\n",
    "cooc_7.apply_freq_filter(2)\n",
    "\n",
    "# Print the co-occurrence statistics for \"student\" with window 7 and freqency of 2 or above\n",
    "print(\"\\nCo-occurrence of 'student' in a window of 7 and frequency minimum of 2\")\n",
    "for pair,freq in cooc_7.ngram_fd.items():\n",
    "    if 'student' in pair:\n",
    "        print(pair,freq)\n",
    "\n",
    "# Load the pre-built association measures\n",
    "bigram_measures = nltk.collocations.BigramAssocMeasures()\n",
    "# Score the co-occurrence (5) based on the degree of association\n",
    "print(\"\\nCo-occurrence in a window of 5 after applying MI\")\n",
    "cooc_5.score_ngrams(bigram_measures.pmi)\n"
   ]
  }
 ],
 "metadata": {
  "kernelspec": {
   "display_name": "Python 2",
   "language": "python",
   "name": "python2"
  },
  "language_info": {
   "codemirror_mode": {
    "name": "ipython",
    "version": 2
   },
   "file_extension": ".py",
   "mimetype": "text/x-python",
   "name": "python",
   "nbconvert_exporter": "python",
   "pygments_lexer": "ipython2",
   "version": "2.7.12"
  }
 },
 "nbformat": 4,
 "nbformat_minor": 2
}
