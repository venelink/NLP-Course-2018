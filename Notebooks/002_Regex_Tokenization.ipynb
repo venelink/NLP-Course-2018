{
 "cells": [
  {
   "cell_type": "markdown",
   "metadata": {
    "deletable": true,
    "editable": true
   },
   "source": [
    "Introduction to NLP course (2017-2018).\n",
    "\n",
    "Notebook 2: Regular Expressions. Tokenization.\n",
    "\n",
    "by Venelin Kovatchev, University of Barcelona"
   ]
  },
  {
   "cell_type": "code",
   "execution_count": 1,
   "metadata": {
    "collapsed": true,
    "deletable": true,
    "editable": true
   },
   "outputs": [],
   "source": [
    "# Import section\n",
    "\n",
    "# Import nltk\n",
    "import nltk\n",
    "from nltk import word_tokenize\n",
    "from nltk import regexp_tokenize\n",
    "# Import regular expressions\n",
    "import re\n",
    "\n",
    "# Import corpora\n",
    "from nltk.corpus import treebank_raw\n",
    "from nltk.corpus import treebank_chunk"
   ]
  },
  {
   "cell_type": "markdown",
   "metadata": {
    "deletable": true,
    "editable": true
   },
   "source": [
    "1) Tokenization: \n",
    "\n",
    "- input: a string (raw corpus) \n",
    "- output: a list of strings; each of the elements of the list is a linguistic unit"
   ]
  },
  {
   "cell_type": "code",
   "execution_count": 2,
   "metadata": {
    "collapsed": false,
    "deletable": true,
    "editable": true,
    "scrolled": true
   },
   "outputs": [
    {
     "name": "stdout",
     "output_type": "stream",
     "text": [
      "\n",
      "Input of the tokenizer: \n",
      " .START \n",
      "\n",
      "Pierre Vinken, 61 years old, will join th\n",
      "\n",
      "Desired output of the tokenizer: \n",
      " ['Pierre', 'Vinken', ',', '61', 'years', 'old', ',', 'will', 'join', 'the']\n"
     ]
    }
   ],
   "source": [
    "# Corpus in raw format (input):\n",
    "corpus_text = treebank_raw.raw(treebank_raw.fileids())\n",
    "print(\"\\nInput of the tokenizer: \\n {0}\".format(corpus_text[:50]))\n",
    "\n",
    "# Corpus in tokenized format (desired output)\n",
    "corpus_token = treebank_chunk.words(treebank_chunk.fileids())\n",
    "print(\"\\nDesired output of the tokenizer: \\n {0}\".format([str(tok) for tok in corpus_token[:10]]))"
   ]
  },
  {
   "cell_type": "markdown",
   "metadata": {},
   "source": [
    "2) Tokenization is more complex than .split()\n",
    "\n",
    "- punctuation\n",
    "- multi word expressions\n",
    "- special characters"
   ]
  },
  {
   "cell_type": "code",
   "execution_count": 3,
   "metadata": {
    "collapsed": false,
    "deletable": true,
    "editable": true
   },
   "outputs": [
    {
     "name": "stdout",
     "output_type": "stream",
     "text": [
      "\n",
      "Separate the corpus by whitespaces: \n",
      " ['.START', '\\n\\nPierre', 'Vinken,', '61', 'years', 'old,', 'will', 'join', 'the', 'board']\n",
      "\n",
      "Desired output of the tokenizer: \n",
      " ['Pierre', 'Vinken', ',', '61', 'years', 'old', ',', 'will', 'join', 'the']\n"
     ]
    }
   ],
   "source": [
    "# Naive tokenization, separate by whitespaces\n",
    "corpus_naive = corpus_text.split(\" \")\n",
    "print(\"\\nSeparate the corpus by whitespaces: \\n {}\".format([str(tok) for tok in corpus_naive[:10]]))\n",
    "print(\"\\nDesired output of the tokenizer: \\n {0}\".format([str(tok) for tok in corpus_token[:10]]))"
   ]
  },
  {
   "cell_type": "markdown",
   "metadata": {
    "deletable": true,
    "editable": true
   },
   "source": [
    "3) More non-trivial examples that can't be handled by splitting based on whitespaces and punctuation.\n",
    "\n",
    "- R.E.N.F.E\n",
    "- 16:20\n",
    "- $100m\n",
    "- Mr. \n",
    "- 4:1\n",
    "- flight LU-345\n",
    "- jacapetti@miami.maffia.com \n",
    "- Problems with multi-word expressions:\n",
    "- J.A. Capetti \n",
    "- Mr. Capetti \n",
    "- New York\n",
    "- kick the bucket"
   ]
  },
  {
   "cell_type": "markdown",
   "metadata": {
    "deletable": true,
    "editable": true
   },
   "source": [
    "4) Regular expressions and rule based tokenization:\n",
    "\n",
    "- for English, a standard approach to tokenization is to use a combination of regular expression rules and a dictionary\n",
    "- regular expressions are a sequence of characters that define a search pattern. In python they are normally implemented through the re module.\n",
    "\n",
    "A very brief illustration of different regular exprassions (for more detailed information, refer to the official python documentation):"
   ]
  },
  {
   "cell_type": "code",
   "execution_count": 4,
   "metadata": {
    "collapsed": false,
    "deletable": true,
    "editable": true
   },
   "outputs": [
    {
     "name": "stdout",
     "output_type": "stream",
     "text": [
      "['dog', 'dog']\n"
     ]
    }
   ],
   "source": [
    "# Basic regular expression examples:\n",
    "\n",
    "# Matching literal text\n",
    "# Except for control characters, (+ ? . * ^ $ ( ) [ ] { } | \\), all characters \n",
    "# match themselves. You can escape a control character by preceding it with a backslash.\n",
    "\n",
    "# re.findall(PATTERN,INPUT); r enables extended regular expressions\n",
    "# This should match both occurrences of \"dog\"\n",
    "print(re.findall(r\"dog\",\"the black dog and the blue dog\")) "
   ]
  },
  {
   "cell_type": "code",
   "execution_count": 5,
   "metadata": {
    "collapsed": false,
    "deletable": true,
    "editable": true
   },
   "outputs": [
    {
     "name": "stdout",
     "output_type": "stream",
     "text": [
      "['the']\n"
     ]
    }
   ],
   "source": [
    "# ^ matches the beginning of the line\n",
    "# This should only match the first \"the\"\n",
    "print(re.findall(r\"^the\",\"the black dog and the blue dog\")) "
   ]
  },
  {
   "cell_type": "code",
   "execution_count": 6,
   "metadata": {
    "collapsed": false,
    "deletable": true,
    "editable": true
   },
   "outputs": [
    {
     "name": "stdout",
     "output_type": "stream",
     "text": [
      "['dog']\n"
     ]
    }
   ],
   "source": [
    "# $ matches the end of the line\n",
    "# This should only match the last \"dog\"\n",
    "print(re.findall(r\"dog$\",\"the black dog and the blue dog\"))"
   ]
  },
  {
   "cell_type": "code",
   "execution_count": 7,
   "metadata": {
    "collapsed": false,
    "deletable": true,
    "editable": true
   },
   "outputs": [
    {
     "name": "stdout",
     "output_type": "stream",
     "text": [
      "['dog', 'don']\n"
     ]
    }
   ],
   "source": [
    "# . matches any single character\n",
    "# This should match both \"dog\" and \"don\"\n",
    "print(re.findall(r\"do.\",\"the black dog and the blue don\"))"
   ]
  },
  {
   "cell_type": "code",
   "execution_count": 8,
   "metadata": {
    "collapsed": false,
    "deletable": true,
    "editable": true
   },
   "outputs": [
    {
     "name": "stdout",
     "output_type": "stream",
     "text": [
      "['dog', 'don']\n"
     ]
    }
   ],
   "source": [
    "# [...] matches any single character in the bracket\n",
    "# This should match both \"dog\" and \"don\", but not \"dol\"\n",
    "print(re.findall(r\"do[gn]\",\"the black dog, the blue don and the yellow dol\"))"
   ]
  },
  {
   "cell_type": "code",
   "execution_count": 9,
   "metadata": {
    "collapsed": false,
    "deletable": true,
    "editable": true
   },
   "outputs": [
    {
     "name": "stdout",
     "output_type": "stream",
     "text": [
      "['dol']\n"
     ]
    }
   ],
   "source": [
    "# [^...] matches any single character that is NOT in the bracket\n",
    "# N.B.: do NOT mistaken [^...] and ^ (beginning of the line)\n",
    "# This should only match \"dol\"\n",
    "print(re.findall(r\"do[^gn]\",\"the black dog, the blue don and the yellow dol\"))"
   ]
  },
  {
   "cell_type": "code",
   "execution_count": 10,
   "metadata": {
    "collapsed": false,
    "deletable": true,
    "editable": true
   },
   "outputs": [
    {
     "name": "stdout",
     "output_type": "stream",
     "text": [
      "['dg', 'dog']\n"
     ]
    }
   ],
   "source": [
    "# ? matches 0 or 1 times the preceding regular expression\n",
    "# This should match \"dg\" and \"dog\", but not \"doog\"\n",
    "print(re.findall(r\"do?g\",\"the black dg, the blue dog and the yellow doog\"))"
   ]
  },
  {
   "cell_type": "code",
   "execution_count": 11,
   "metadata": {
    "collapsed": false,
    "deletable": true,
    "editable": true
   },
   "outputs": [
    {
     "name": "stdout",
     "output_type": "stream",
     "text": [
      "['dog', 'doog']\n"
     ]
    }
   ],
   "source": [
    "# + matches 1 or more times the preceding regular expression\n",
    "# This should match \"dog\" and \"doog\", but not \"dg\"\n",
    "print(re.findall(r\"do+g\",\"the black dg, the blue dog and the yellow doog\"))"
   ]
  },
  {
   "cell_type": "code",
   "execution_count": 12,
   "metadata": {
    "collapsed": false,
    "deletable": true,
    "editable": true
   },
   "outputs": [
    {
     "name": "stdout",
     "output_type": "stream",
     "text": [
      "['dg', 'dog', 'doog']\n"
     ]
    }
   ],
   "source": [
    "# * matches 0 or more times the preceding regular expression\n",
    "# This should match \"dg\", \"dog\" and \"doog\"\n",
    "print(re.findall(r\"do*g\",\"the black dg, the blue dog and the yellow doog\"))"
   ]
  },
  {
   "cell_type": "code",
   "execution_count": 13,
   "metadata": {
    "collapsed": false,
    "deletable": true,
    "editable": true
   },
   "outputs": [
    {
     "name": "stdout",
     "output_type": "stream",
     "text": [
      "['dog']\n",
      "['dg', 'dog']\n"
     ]
    }
   ],
   "source": [
    "# {m} matches exactly m repetitions, while {n,m} matches between n and m repetitions\n",
    "# The first regex should match only \"dog\", the second one matches \"dg\" and \"dog\"\n",
    "print(re.findall(r\"do{1}g\",\"the black dg, the blue dog and the yellow doog\"))\n",
    "print(re.findall(r\"do{0,1}g\",\"the black dg, the blue dog and the yellow doog\"))"
   ]
  },
  {
   "cell_type": "code",
   "execution_count": 14,
   "metadata": {
    "collapsed": false,
    "deletable": true,
    "editable": true
   },
   "outputs": [
    {
     "name": "stdout",
     "output_type": "stream",
     "text": [
      "[('do', 'g'), ('do', 'g')]\n"
     ]
    }
   ],
   "source": [
    "# () are used to group regular expressions. ? + * {} can be applied to groups the same way\n",
    "# This should match \"dodog\", and \"dododog\", but not \"dog\"\n",
    "print(re.findall(r\"(do){2,3}(g)\",\"the black dog, the blue dodog and the yellow dododog\"))"
   ]
  },
  {
   "cell_type": "code",
   "execution_count": 15,
   "metadata": {
    "collapsed": false,
    "deletable": true,
    "editable": true
   },
   "outputs": [
    {
     "name": "stdout",
     "output_type": "stream",
     "text": [
      "[('man', 'sion'), ('pan', 'sion')]\n"
     ]
    }
   ],
   "source": [
    "# a|b matches either a or b\n",
    "# This should match \"mansion\", \"pansion\", but not \"mission\"\n",
    "print(re.findall(r\"((?:man)|(?:pan))(sion)\",\"the black mansion, the blue pansion and the yellow mission\"))"
   ]
  },
  {
   "cell_type": "markdown",
   "metadata": {
    "deletable": true,
    "editable": true
   },
   "source": [
    "5) Useful pre-built re matches:\n",
    "\n",
    "- [0-9] matches any digit\n",
    "- [a-z] matches any lowercase letter\n",
    "- [A-Z] matches any uppercase letter\n",
    "- [a-zA-Z0-9] matches all of the above\n",
    "- \\s matches a whitespace character (including tab and newline)\n",
    "- \\S matches a NON whitespace character\n",
    "- \\t matches a tab\n",
    "- \\n matches newline\n",
    "- \\w matches alphanumeric chars (equal to [a-zA-Z0-9])\n",
    "- \\W matches non-alphanumeric chars (equal to [^a-zA-Z0-9])"
   ]
  },
  {
   "cell_type": "markdown",
   "metadata": {
    "deletable": true,
    "editable": true
   },
   "source": [
    "6) RE exercises\n",
    "\n",
    "Input text: \n",
    "J.A. Capetti will arrive by R.E.N.F.E. at 16:20. He will leave on 22nd November on flight LU-345. Contact him at jacapetti@miami.maffia.com and tell me something. The odds are 4:1 and we must prevent them from rising. We are risking $100m. Mr. Capetti is the capo in Miami and we have  to go along.\n",
    "\n",
    "Match each of the following in a single regex:\n",
    "\n",
    "- J.A. Capetti\n",
    "- R.E.N.F.E.\n",
    "- 16:20\n",
    "- 22nd November\n",
    "- LU-345\n",
    "- jacapetti@miami.maffia.com\n",
    "- 4:1\n",
    "- $100m.\n",
    "- Mr.\n",
    "\n",
    "Each of the regex should return only the text that is required, using re.findall()\n",
    "- do not match strings literally if you can avoid it\n",
    "\n",
    "- keep the redundancy as low as possible"
   ]
  },
  {
   "cell_type": "code",
   "execution_count": 16,
   "metadata": {
    "collapsed": true
   },
   "outputs": [],
   "source": [
    "# Input\n",
    "my_text = \"J.A. Capetti will arrive by R.E.N.F.E. at 16:20. He will leave on 22nd November on flight LU-345. Contact him at jacapetti@miami.maffia.com and tell me something. The odds are 4:1 and we must prevent them from rising. We are risking $100m. Mr. Capetti is the capo in Miami and we have to go along.\"\n",
    "\n",
    "# Your regex here"
   ]
  }
 ],
 "metadata": {
  "kernelspec": {
   "display_name": "Python 2",
   "language": "python",
   "name": "python2"
  },
  "language_info": {
   "codemirror_mode": {
    "name": "ipython",
    "version": 2
   },
   "file_extension": ".py",
   "mimetype": "text/x-python",
   "name": "python",
   "nbconvert_exporter": "python",
   "pygments_lexer": "ipython2",
   "version": "2.7.12"
  }
 },
 "nbformat": 4,
 "nbformat_minor": 2
}
