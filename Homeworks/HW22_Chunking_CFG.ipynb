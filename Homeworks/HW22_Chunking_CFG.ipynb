{
 "cells": [
  {
   "cell_type": "markdown",
   "metadata": {},
   "source": [
    "Introduction to NLP course (2017-2018).\n",
    "\n",
    "Homework 2.2: Chunking. Parsing with context free grammar\n",
    "\n",
    "Objectives\n",
    "\n",
    "1) Define, train and evaluate uni-gram and bi-gram HMM chunkers\n",
    "- load the conll2000 corpus\n",
    "- split the corpus to test and train\n",
    "- define a class for unigram chunker\n",
    "- define a class for bi-gram chunker. The bi-gram chunker should backoff on the unigram.\n",
    "- train a unigram and a bi-gram chunker on the train corpus.\n",
    "- evaluate and compare both chunkers on the test corpus\n",
    "\n",
    "2) Create and use a simple context free grammar for syntactic parsing\n",
    "- extend the CFG given in the lectures\n",
    "- load the grammar in an nltk.RecursiveDescentParser\n",
    "- use the parset to tag a to corpus (given)\n",
    "- for each sentence, print the number of possible parses (correct answer below)\n",
    "\n",
    "Correct number of parses for each sentence:\n",
    "- “a young woman walks in the park” <- 1 parse\n",
    "- “two young men smile” <- 1 parse\n",
    "- “a young woman sees two men” <- 1 parse\n",
    "- “sees two men a young woman” <- 0 parses\n",
    "- “a young woman sees two old men in the park with a telescope” <- AT LEAST 3 parses\n",
    "- “a young woman two old men in the park with a telescope sees” <- 0 parses\n",
    "- “two angry men chase a woman with a telescope” <- 2 parses\n",
    "- “a woman I know owns a telescope” <- 1 parse\n",
    "- “a woman I know a telescope” <- 0 parses"
   ]
  },
  {
   "cell_type": "code",
   "execution_count": null,
   "metadata": {
    "collapsed": true
   },
   "outputs": [],
   "source": [
    "# Import section\n",
    "import nltk\n",
    "from nltk.corpus import conll2000"
   ]
  },
  {
   "cell_type": "code",
   "execution_count": null,
   "metadata": {
    "collapsed": true
   },
   "outputs": [],
   "source": [
    "# Class for unigram chunker\n",
    "# Takes a corpus in a pos tagged an i-o-b chunk format as input\n",
    "# Parses pos-tagged corpus with the parse funciton\n",
    "# Given in class\n",
    "class unigram_chunker(nltk.ChunkParserI):\n",
    "    \n",
    "    # Initialize and train the chunker\n",
    "    def __init__(self, train_sents):\n",
    "        # Take the pos and the iob tags of the corpus\n",
    "        # Ignore the actual words, we map from pos tag to iob tag\n",
    "        train_data = [[(t,c) for w,t,c in nltk.chunk.tree2conlltags(sent)] for sent in train_sents]\n",
    "        # Train an unigram tagger from the train data\n",
    "        self.tagger = nltk.UnigramTagger(train_data)\n",
    "    \n",
    "    # Parse function\n",
    "    # Takes a corpus in POS tagged format\n",
    "    def parse(self,sentence):\n",
    "        # Take the pos tags\n",
    "        pos_tags = [pos for (word,pos) in sentence]\n",
    "        # Use the tagger to tag the modified corpus\n",
    "        tagged_pos_tags = self.tagger.tag(pos_tags)\n",
    "        # Take the chunks from the tagged corpus\n",
    "        chunktags = [chunktag for (pos, chunktag) in tagged_pos_tags]\n",
    "        # Convert the output\n",
    "        conlltags = [(word, pos, chunktag) for ((word,pos),chunktag) in zip(sentence, chunktags)]\n",
    "        \n",
    "        # Return the tagged sentence\n",
    "        return nltk.chunk.conlltags2tree(conlltags)             "
   ]
  },
  {
   "cell_type": "code",
   "execution_count": null,
   "metadata": {
    "collapsed": true
   },
   "outputs": [],
   "source": [
    "# Class for bigram chunker\n",
    "# Takes a corpus in a pos tagged an i-o-b chunk format as input\n",
    "# Parses pos-tagged corpus with the parse funciton\n",
    "class bigram_chunker(nltk.ChunkParserI):\n",
    "    \n",
    "    # Initialize and train the chunker\n",
    "    def __init__(self, train_sents):\n",
    "        # YOUR CODE HERE\n",
    "        \n",
    "    # Parse function\n",
    "    # Takes a corpus in POS tagged format\n",
    "    def parse(self,sentence):\n",
    "        # YOUR CODE HERE"
   ]
  },
  {
   "cell_type": "code",
   "execution_count": null,
   "metadata": {
    "collapsed": true
   },
   "outputs": [],
   "source": [
    "# Dummy function for exercise 1\n",
    "def hw22_ex1():\n",
    "    # Get the corpus\n",
    "    train = conll2000.chunked_sents(\"train.txt\")\n",
    "    test = conll2000.chunked_sents(\"test.txt\")\n",
    "    \n",
    "    # Train the two taggers:\n",
    "    \n",
    "    \n",
    "    # Evaluate and print the results:\n"
   ]
  },
  {
   "cell_type": "code",
   "execution_count": null,
   "metadata": {
    "collapsed": true
   },
   "outputs": [],
   "source": [
    "# Dummy function for exercise 2\n",
    "def hw22_ex2():\n",
    "    \"\"\"Function for exercise 2\"\"\"\n",
    "    # corpus (given)\n",
    "    corpus = [['a', 'young', 'woman', 'walks', 'in', 'the', 'park'], \n",
    "['two', 'young', 'men', 'smile'], \n",
    "['a', 'young', 'woman', 'sees', 'two', 'men'], \n",
    "['sees', 'two', 'men', 'a', 'young', 'woman'], \n",
    "['a', 'young', 'woman', 'sees', 'two', 'old', 'men', 'in', 'the', 'park', 'with', 'a', 'telescope'], \n",
    "['a', 'young', 'woman', 'two', 'old', 'men', 'in', 'the', 'park', 'with', 'a', 'telescope', 'sees'], \n",
    "['two', 'angry', 'men', 'chase', 'a', 'woman', 'with', 'a', 'telescope'], \n",
    "['a', 'woman', 'I', 'know', 'owns', 'a', 'telescope'], \n",
    "['a', 'woman', 'I', 'know', 'a', 'telescope']]\n",
    "    \n",
    "    # Grammar (in a string format)\n",
    "    grammar_string = \"\"\"\n",
    "    S -> NP VP\n",
    "    VP -> V NP | V NP PP\n",
    "    PP -> P NP\n",
    "    V -> \"saw\" | \"ate\" | \"walked\"\n",
    "    NP -> \"John\" | \"Mary\" | \"Bob\" | Det N | Det N PP\n",
    "    Det -> \"a\" | \"an\" | \"the\" | \"my\"\n",
    "    N -> \"man\" | \"dog\" | \"cat\" | \"telescope\" | \"park\"\n",
    "    P -> \"in\" | \"on\" | \"by\" | \"with\"\n",
    "    \"\"\"\n",
    "    \n",
    "    # Grammar (in nltk CFG format)\n",
    "    grammar = nltk.CFG.fromstring(grammar_string)\n",
    "    \n",
    "    # Parse the corpus, \n",
    "    # count the number of parses for each sentence,\n",
    "    # and print the sentence and the number of parses\n",
    "    \n",
    "    # YOUR CODE HERE\n",
    "    "
   ]
  },
  {
   "cell_type": "code",
   "execution_count": null,
   "metadata": {
    "collapsed": true
   },
   "outputs": [],
   "source": [
    "def main():\n",
    "    print \"\\n------------------------------------------------------------------------\"\n",
    "    print \"Exercise 1: unigram and bigram chunker\"\n",
    "    hw22_ex1()\n",
    "    print \"------------------------------------------------------------------------\"\n",
    "    print \"\\n------------------------------------------------------------------------\"\n",
    "    print \"Exercise 2: number of parses with a CFG\"\n",
    "    hw22_ex2()"
   ]
  },
  {
   "cell_type": "code",
   "execution_count": null,
   "metadata": {
    "collapsed": true
   },
   "outputs": [],
   "source": [
    "# Running the main function\n",
    "if __name__==\"__main__\":\n",
    "    main()"
   ]
  }
 ],
 "metadata": {
  "kernelspec": {
   "display_name": "Python 2",
   "language": "python",
   "name": "python2"
  },
  "language_info": {
   "codemirror_mode": {
    "name": "ipython",
    "version": 2
   },
   "file_extension": ".py",
   "mimetype": "text/x-python",
   "name": "python",
   "nbconvert_exporter": "python",
   "pygments_lexer": "ipython2",
   "version": "2.7.12"
  }
 },
 "nbformat": 4,
 "nbformat_minor": 2
}
